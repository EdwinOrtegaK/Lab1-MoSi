{
 "cells": [
  {
   "cell_type": "markdown",
   "id": "39cd30df",
   "metadata": {},
   "source": [
    "# Laboratorio 1\n",
    "Edwin Ortega - 22305\n",
    "Esteban Zambrano - 22119\n",
    "Juan Pablo Solis - 22102"
   ]
  },
  {
   "cell_type": "code",
   "execution_count": 1,
   "id": "768be2b5",
   "metadata": {},
   "outputs": [],
   "source": [
    "using JuMP\n",
    "using HiGHS\n",
    "using Ipopt\n",
    "using Optimization"
   ]
  },
  {
   "cell_type": "markdown",
   "id": "7a07eb65",
   "metadata": {},
   "source": [
    "### Ejercicio 1"
   ]
  },
  {
   "cell_type": "code",
   "execution_count": 2,
   "id": "c94bd92e",
   "metadata": {},
   "outputs": [
    {
     "name": "stdout",
     "output_type": "stream",
     "text": [
      "Running HiGHS 1.11.0 (git hash: 364c83a51e): Copyright (c) 2025 HiGHS under MIT licence terms\n",
      "LP   has 4 rows; 4 cols; 14 nonzeros\n",
      "Coefficient ranges:\n",
      "  Matrix [1e+00, 6e+00]\n",
      "  Cost   [1e+00, 3e+00]\n",
      "  Bound  [0e+00, 0e+00]\n",
      "  RHS    [3e+00, 8e+00]\n",
      "Presolving model\n",
      "4 rows, 3 cols, 10 nonzeros  0s\n",
      "0 rows, 0 cols, 0 nonzeros  0s\n",
      "Presolve : Reductions: rows 0(-4); columns 0(-4); elements 0(-14) - Reduced to empty\n",
      "Solving the original LP from the solution after postsolve\n",
      "Model status        : Optimal\n",
      "Objective value     :  9.0000000000e+00\n",
      "P-D objective error :  0.0000000000e+00\n",
      "HiGHS run time      :          0.01\n",
      "Estado de solución: OPTIMAL\n",
      "Valor óptimo de z: 9.0\n",
      "x1 = 2.0\n",
      "x2 = 1.0\n",
      "x3 = 2.0\n",
      "x4 = 0.0\n"
     ]
    }
   ],
   "source": [
    "# Crear el modelo con el solver HiGHS\n",
    "model = Model(HiGHS.Optimizer)\n",
    "\n",
    "# Definir variables\n",
    "@variable(model, x1 >= 0)\n",
    "@variable(model, x2 >= 0)\n",
    "@variable(model, x3 >= 0)\n",
    "@variable(model, x4 >= 0)\n",
    "\n",
    "# Función objetivo: maximizar z\n",
    "@objective(model, Max, x1 + x2 + 3x3 + 2x4)\n",
    "\n",
    "# Restricciones\n",
    "@constraint(model, x1 + 2x2 - 3x3 + 5x4 <= 4)\n",
    "@constraint(model, 5x1 - 2x2 + 6x4 <= 8)\n",
    "@constraint(model, 2x1 + 3x2 - 2x3 + 3x4 <= 3)\n",
    "@constraint(model, -x1 + x3 + 2x4 <= 0)\n",
    "\n",
    "# Ejecutar el optimizador\n",
    "optimize!(model)\n",
    "\n",
    "# Mostrar resultados\n",
    "println(\"Estado de solución: \", termination_status(model))\n",
    "println(\"Valor óptimo de z: \", objective_value(model))\n",
    "println(\"x1 = \", value(x1))\n",
    "println(\"x2 = \", value(x2))\n",
    "println(\"x3 = \", value(x3))\n",
    "println(\"x4 = \", value(x4))\n"
   ]
  }
 ],
 "metadata": {
  "kernelspec": {
   "display_name": "Julia 1.11.6",
   "language": "julia",
   "name": "julia-1.11"
  },
  "language_info": {
   "file_extension": ".jl",
   "mimetype": "application/julia",
   "name": "julia",
   "version": "1.11.6"
  }
 },
 "nbformat": 4,
 "nbformat_minor": 5
}
