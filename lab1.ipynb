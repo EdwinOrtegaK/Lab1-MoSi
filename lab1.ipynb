{
 "cells": [
  {
   "cell_type": "markdown",
   "id": "39cd30df",
   "metadata": {},
   "source": [
    "# Laboratorio 1\n",
    "Edwin Ortega - 22305\n",
    "Esteban Zambrano - 22119\n",
    "Juan Pablo Solis - 22102"
   ]
  },
  {
   "cell_type": "code",
   "execution_count": 5,
   "id": "768be2b5",
   "metadata": {},
   "outputs": [],
   "source": [
    "using JuMP\n",
    "using HiGHS\n",
    "using Ipopt\n",
    "using Optimization"
   ]
  },
  {
   "cell_type": "markdown",
   "id": "7a07eb65",
   "metadata": {},
   "source": [
    "### Ejercicio 1"
   ]
  },
  {
   "cell_type": "code",
   "execution_count": 3,
   "id": "c94bd92e",
   "metadata": {},
   "outputs": [
    {
     "name": "stdout",
     "output_type": "stream",
     "text": [
      "Running HiGHS 1.11.0 (git hash: 364c83a51e): Copyright (c) 2025 HiGHS under MIT licence terms\n",
      "LP   has 4 rows; 4 cols; 14 nonzeros\n",
      "Coefficient ranges:\n",
      "  Matrix [1e+00, 6e+00]\n",
      "  Cost   [1e+00, 3e+00]\n",
      "  Bound  [0e+00, 0e+00]\n",
      "  RHS    [3e+00, 8e+00]\n",
      "Presolving model\n",
      "4 rows, 3 cols, 10 nonzeros  0s\n",
      "0 rows, 0 cols, 0 nonzeros  0s\n",
      "Presolve : Reductions: rows 0(-4); columns 0(-4); elements 0(-14) - Reduced to empty\n",
      "Solving the original LP from the solution after postsolve\n",
      "Model status        : Optimal\n",
      "Objective value     :  9.0000000000e+00\n",
      "P-D objective error :  0.0000000000e+00\n",
      "HiGHS run time      :          0.00\n",
      "Estado de solución: OPTIMAL\n",
      "Valor óptimo de z: 9.0\n",
      "x1 = 2.0\n",
      "x2 = 1.0\n",
      "x3 = 2.0\n",
      "x4 = 0.0\n"
     ]
    }
   ],
   "source": [
    "# Crear el modelo con el solver HiGHS\n",
    "model = Model(HiGHS.Optimizer)\n",
    "\n",
    "# Definir variables\n",
    "@variable(model, x1 >= 0)\n",
    "@variable(model, x2 >= 0)\n",
    "@variable(model, x3 >= 0)\n",
    "@variable(model, x4 >= 0)\n",
    "\n",
    "# Función objetivo: maximizar z\n",
    "@objective(model, Max, x1 + x2 + 3x3 + 2x4)\n",
    "\n",
    "# Restricciones\n",
    "@constraint(model, x1 + 2x2 - 3x3 + 5x4 <= 4)\n",
    "@constraint(model, 5x1 - 2x2 + 6x4 <= 8)\n",
    "@constraint(model, 2x1 + 3x2 - 2x3 + 3x4 <= 3)\n",
    "@constraint(model, -x1 + x3 + 2x4 <= 0)\n",
    "\n",
    "# Ejecutar el optimizador\n",
    "optimize!(model)\n",
    "\n",
    "# Mostrar resultados\n",
    "println(\"Estado de solución: \", termination_status(model))\n",
    "println(\"Valor óptimo de z: \", objective_value(model))\n",
    "println(\"x1 = \", value(x1))\n",
    "println(\"x2 = \", value(x2))\n",
    "println(\"x3 = \", value(x3))\n",
    "println(\"x4 = \", value(x4))\n"
   ]
  },
  {
   "cell_type": "markdown",
   "id": "5453fe38",
   "metadata": {},
   "source": [
    "### Ejercicio 3 Modelo de asignación de horarios"
   ]
  },
  {
   "cell_type": "markdown",
   "id": "6de98f91",
   "metadata": {},
   "source": [
    "#### a)"
   ]
  },
  {
   "cell_type": "code",
   "execution_count": null,
   "id": "8ae06377",
   "metadata": {},
   "outputs": [],
   "source": [
    "# -----------------------------------------------------\n",
    "# a) Formulación del PL:\n",
    "# Variables:\n",
    "#   x_i >= 0  → autobuses que inician en el turno i\n",
    "#\n",
    "# Parámetros:\n",
    "#   demanda = [4,8,10,7,12,4]\n",
    "#   cobertura = Dict(\n",
    "#     1=>[1,2], 2=>[2,3], 3=>[3,4],\n",
    "#     4=>[4,5], 5=>[5,6], 6=>[6,1]\n",
    "#   )\n",
    "#\n",
    "# Objetivo:\n",
    "#   min Σ x_i\n",
    "#\n",
    "# Restricciones:\n",
    "#   x1 + x6 >= 4   # intervalo 1\n",
    "#   x1 + x2 >= 8   # intervalo 2\n",
    "#   x2 + x3 >=10   # intervalo 3\n",
    "#   x3 + x4 >= 7   # intervalo 4\n",
    "#   x4 + x5 >=12   # intervalo 5\n",
    "#   x5 + x6 >= 4   # intervalo 6\n",
    "# -----------------------------------------------------"
   ]
  },
  {
   "cell_type": "markdown",
   "id": "dbb25ad2",
   "metadata": {},
   "source": [
    "#### b)"
   ]
  },
  {
   "cell_type": "code",
   "execution_count": 8,
   "id": "aa633cf7",
   "metadata": {},
   "outputs": [
    {
     "name": "stdout",
     "output_type": "stream",
     "text": [
      "Running HiGHS 1.11.0 (git hash: 364c83a51e): Copyright (c) 2025 HiGHS under MIT licence terms\n",
      "LP   has 6 rows; 6 cols; 12 nonzeros\n",
      "Coefficient ranges:\n",
      "  Matrix [1e+00, 1e+00]\n",
      "  Cost   [1e+00, 1e+00]\n",
      "  Bound  [0e+00, 0e+00]\n",
      "  RHS    [4e+00, 1e+01]\n",
      "Presolving model\n",
      "6 rows, 6 cols, 12 nonzeros  0s\n",
      "6 rows, 6 cols, 12 nonzeros  0s\n",
      "Presolve : Reductions: rows 6(-0); columns 6(-0); elements 12(-0) - Not reduced\n",
      "Problem not reduced by presolve: solving the LP\n",
      "Using EKK dual simplex solver - serial\n",
      "  Iteration        Objective     Infeasibilities num(sum)\n",
      "          0     0.0000000000e+00 Pr: 6(45) 0s\n",
      "          5     2.6000000000e+01 Pr: 0(0) 0s\n",
      "Model status        : Optimal\n",
      "Simplex   iterations: 5\n",
      "Objective value     :  2.6000000000e+01\n",
      "P-D objective error :  0.0000000000e+00\n",
      "HiGHS run time      :          0.00\n",
      "Estado de solución: OPTIMAL\n",
      "Total de autobuses necesarios: 26.0\n",
      "  Turno 1 → 4.0 autobuses\n",
      "  Turno 2 → 4.0 autobuses\n",
      "  Turno 3 → 6.0 autobuses\n",
      "  Turno 4 → 1.0 autobuses\n",
      "  Turno 5 → 11.0 autobuses\n",
      "  Turno 6 → 0.0 autobuses\n"
     ]
    }
   ],
   "source": [
    "# — Datos —\n",
    "turnos     = 1:6\n",
    "intervalos = 1:6\n",
    "\n",
    "cobertura = Dict(\n",
    "    1 => [1, 2],  # 00:00–07:59\n",
    "    2 => [2, 3],  # 04:00–11:59\n",
    "    3 => [3, 4],  # 08:00–15:59\n",
    "    4 => [4, 5],  # 12:00–19:59\n",
    "    5 => [5, 6],  # 16:00–23:59\n",
    "    6 => [6, 1]   # 20:00–03:59\n",
    ")\n",
    "\n",
    "demanda = [4, 8, 10, 7, 12, 4]  # según Figura 2\n",
    "\n",
    "# — Crear modelo con HI‑GHS como solver —\n",
    "model = Model(HiGHS.Optimizer)\n",
    "\n",
    "# Variables: x[i] = autobuses que inician en turno i\n",
    "@variable(model, x[turnos] >= 0)\n",
    "\n",
    "# Restricciones: cubrir la demanda en cada intervalo\n",
    "@constraint(model, [j in intervalos],\n",
    "    sum(x[i] for i in turnos if j in cobertura[i]) >= demanda[j]\n",
    ")\n",
    "\n",
    "# Objetivo: minimizar total de autobuses\n",
    "@objective(model, Min, sum(x[i] for i in turnos))\n",
    "\n",
    "# Resolver\n",
    "optimize!(model)\n",
    "\n",
    "# Resultados\n",
    "println(\"Estado de solución: \", termination_status(model))\n",
    "println(\"Total de autobuses necesarios: \", objective_value(model))\n",
    "for i in turnos\n",
    "    println(\"  Turno $i → \", value(x[i]) |> round, \" autobuses\")\n",
    "end"
   ]
  }
 ],
 "metadata": {
  "kernelspec": {
   "display_name": "Julia 1.11.6",
   "language": "julia",
   "name": "julia-1.11"
  },
  "language_info": {
   "file_extension": ".jl",
   "mimetype": "application/julia",
   "name": "julia",
   "version": "1.11.6"
  }
 },
 "nbformat": 4,
 "nbformat_minor": 5
}
